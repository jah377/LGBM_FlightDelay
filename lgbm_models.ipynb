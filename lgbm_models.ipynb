{
  "cells": [
    {
      "cell_type": "markdown",
      "metadata": {
        "id": "6x83Tg0rFtNd"
      },
      "source": [
        "# Set up work space\n"
      ]
    },
    {
      "cell_type": "code",
      "execution_count": 1,
      "metadata": {
        "colab": {
          "base_uri": "https://localhost:8080/"
        },
        "id": "yRXmrcQAHx6W",
        "outputId": "d53de177-6d81-40ef-9f26-6b66bdaf58a1"
      },
      "outputs": [
        {
          "name": "stdout",
          "output_type": "stream",
          "text": [
            "Mounted at /content/drive\n"
          ]
        }
      ],
      "source": [
        "# import data into notebook and change to directory\n",
        "import os \n",
        "from google.colab import drive\n",
        "drive.mount('/content/drive')\n",
        "os.chdir('/content/drive/My Drive/AML flight prediction /code') # current directory"
      ]
    },
    {
      "cell_type": "code",
      "execution_count": 2,
      "metadata": {
        "colab": {
          "base_uri": "https://localhost:8080/"
        },
        "id": "mpUUl0KKH0RN",
        "outputId": "87aae3f4-b0a0-4733-a212-8bc3b3b252cb"
      },
      "outputs": [
        {
          "name": "stdout",
          "output_type": "stream",
          "text": [
            "Wed Jul 27 10:26:57 2022       \n",
            "+-----------------------------------------------------------------------------+\n",
            "| NVIDIA-SMI 460.32.03    Driver Version: 460.32.03    CUDA Version: 11.2     |\n",
            "|-------------------------------+----------------------+----------------------+\n",
            "| GPU  Name        Persistence-M| Bus-Id        Disp.A | Volatile Uncorr. ECC |\n",
            "| Fan  Temp  Perf  Pwr:Usage/Cap|         Memory-Usage | GPU-Util  Compute M. |\n",
            "|                               |                      |               MIG M. |\n",
            "|===============================+======================+======================|\n",
            "|   0  Tesla T4            Off  | 00000000:00:04.0 Off |                    0 |\n",
            "| N/A   37C    P8     9W /  70W |      0MiB / 15109MiB |      0%      Default |\n",
            "|                               |                      |                  N/A |\n",
            "+-------------------------------+----------------------+----------------------+\n",
            "                                                                               \n",
            "+-----------------------------------------------------------------------------+\n",
            "| Processes:                                                                  |\n",
            "|  GPU   GI   CI        PID   Type   Process name                  GPU Memory |\n",
            "|        ID   ID                                                   Usage      |\n",
            "|=============================================================================|\n",
            "|  No running processes found                                                 |\n",
            "+-----------------------------------------------------------------------------+\n"
          ]
        }
      ],
      "source": [
        "gpu_info = !nvidia-smi\n",
        "gpu_info = '\\n'.join(gpu_info)\n",
        "if gpu_info.find('failed') >= 0:\n",
        "  print('Not connected to a GPU')\n",
        "else:\n",
        "  print(gpu_info)\n",
        "del gpu_info"
      ]
    },
    {
      "cell_type": "code",
      "execution_count": 3,
      "metadata": {
        "colab": {
          "base_uri": "https://localhost:8080/"
        },
        "id": "kR9fCsdTibFc",
        "outputId": "67b041b1-5429-4d8b-e9d2-5c9846a910a1"
      },
      "outputs": [
        {
          "name": "stdout",
          "output_type": "stream",
          "text": [
            "Your runtime has 13.6 gigabytes of available RAM\n",
            "\n",
            "Not using a high-RAM runtime\n"
          ]
        }
      ],
      "source": [
        "from psutil import virtual_memory\n",
        "ram_gb = virtual_memory().total / 1e9\n",
        "print('Your runtime has {:.1f} gigabytes of available RAM\\n'.format(ram_gb))\n",
        "\n",
        "if ram_gb < 20:\n",
        "  print('Not using a high-RAM runtime')\n",
        "else:\n",
        "  print('You are using a high-RAM runtime!')\n",
        "del ram_gb"
      ]
    },
    {
      "cell_type": "code",
      "execution_count": null,
      "metadata": {
        "id": "A8mYHue5NoFs"
      },
      "outputs": [],
      "source": [
        "# # to upload directly to kaggle\n",
        "# !mkdir -p ~/.kaggle\n",
        "# !cp kaggle.json ~/.kaggle/\n",
        "# !pip install kaggle # to submit from google collab"
      ]
    },
    {
      "cell_type": "markdown",
      "metadata": {
        "id": "moxg4DptIw0J"
      },
      "source": [
        "### install packages"
      ]
    },
    {
      "cell_type": "code",
      "execution_count": 4,
      "metadata": {
        "colab": {
          "base_uri": "https://localhost:8080/"
        },
        "id": "2bqOKncFF4sc",
        "outputId": "cd1549f2-df9c-4d08-bacd-8fce9b5c1bb2"
      },
      "outputs": [
        {
          "name": "stdout",
          "output_type": "stream",
          "text": [
            "Looking in indexes: https://pypi.org/simple, https://us-python.pkg.dev/colab-wheels/public/simple/\n",
            "Collecting timezonefinder\n",
            "  Downloading timezonefinder-6.0.1-py37.py38.py39.py310-none-any.whl (45.7 MB)\n",
            "\u001b[K     |████████████████████████████████| 45.7 MB 1.7 MB/s \n",
            "\u001b[?25hRequirement already satisfied: numpy>=1.20.3 in /usr/local/lib/python3.7/dist-packages (from timezonefinder) (1.21.6)\n",
            "Collecting h3>=3.7.3\n",
            "  Downloading h3-3.7.4-cp37-cp37m-manylinux_2_17_x86_64.manylinux2014_x86_64.whl (1.1 MB)\n",
            "\u001b[K     |████████████████████████████████| 1.1 MB 55.0 MB/s \n",
            "\u001b[?25hInstalling collected packages: h3, timezonefinder\n",
            "Successfully installed h3-3.7.4 timezonefinder-6.0.1\n"
          ]
        }
      ],
      "source": [
        "pip install timezonefinder"
      ]
    },
    {
      "cell_type": "markdown",
      "metadata": {
        "id": "NkSW3jP4I14I"
      },
      "source": [
        "### import modules"
      ]
    },
    {
      "cell_type": "code",
      "execution_count": 5,
      "metadata": {
        "id": "YXQly_yAFmox"
      },
      "outputs": [],
      "source": [
        "# general use\n",
        "import pandas as pd\n",
        "import numpy as np\n",
        "import re\n",
        "import random\n",
        "import matplotlib.pyplot as plt\n",
        "\n",
        "# time manipulation\n",
        "import pytz\n",
        "from timezonefinder import TimezoneFinder\n",
        "from datetime import datetime, timedelta\n",
        "from dateutil.relativedelta import relativedelta\n",
        "\n",
        "# modeling\n",
        "import lightgbm as lgb\n",
        "from scipy.sparse import csr_matrix, hstack\n",
        "from sklearn.metrics import mean_squared_error as MSE\n",
        "from sklearn.model_selection import KFold, RandomizedSearchCV, cross_val_score\n",
        "\n",
        "pd.set_option('display.max_columns', None)  # return all columns\n"
      ]
    },
    {
      "cell_type": "markdown",
      "metadata": {
        "id": "3Mol-byGGVaw"
      },
      "source": [
        "# Import and Manipulate Data"
      ]
    },
    {
      "cell_type": "code",
      "execution_count": 6,
      "metadata": {
        "id": "jrC8IYBCJX2X"
      },
      "outputs": [],
      "source": [
        "# functions used to import .csvs\n",
        "def import_airlines(path):\n",
        "  '''\n",
        "  @author: Jon Harris\n",
        "  '''\n",
        "  return pd.read_csv(path)\\\n",
        "             .rename(columns=str.lower)\\\n",
        "             .rename(columns={'iata_code': 'airline_code'})\n",
        "\n",
        "\n",
        "def import_airports(path):\n",
        "  '''\n",
        "  @author: Jon Harris\n",
        "  '''\n",
        "  df = pd.read_csv(path, low_memory=False)\n",
        "  df.rename(columns=str.lower, inplace=True)\n",
        "  df.rename(columns={'iata_code': 'airport_code',\n",
        "                      'origin_airport': 'origin_airport_code',\n",
        "                      'destination_airport': 'destination_airport_code'}, inplace=True)\n",
        "  \n",
        "  # impute missing latitdue and longitude\n",
        "  lat_imput = dict(zip(['ECP', 'PBG', 'UST'], [30.3549, 44.6521, 29.9544]))\n",
        "  lat_idx = df[df['latitude'].isna()].index\n",
        "  df.at[lat_idx, 'latitude'] = df['airport_code'].loc[lat_idx].map(lat_imput)\n",
        "\n",
        "  long_imput = dict(zip(['ECP', 'PBG', 'UST'], [85.7995, 73.4679, 81.3429]))\n",
        "  long_idx = df[df['longitude'].isna()].index\n",
        "  df.at[lat_idx, 'longitude'] = df['airport_code'].loc[long_idx].map(long_imput)\n",
        "\n",
        "  # add timezone using latitude and longitude data\n",
        "  tz_obj = TimezoneFinder()\n",
        "  get_timezone = lambda lat,lng: tz_obj.timezone_at(lat=lat, lng=lng)\n",
        "  df['tz'] = np.vectorize(get_timezone)(df['latitude'], df['longitude']) # add timezone\n",
        "\n",
        "  return df.drop(['country','airport','city','state'], axis=1) \n",
        "\n",
        "\n",
        "def import_predictors(path):\n",
        "  '''\n",
        "  used to import train and test datasets\n",
        "  @author: Jon Harris\n",
        "  '''\n",
        "  df = pd.read_csv(path, low_memory=False)\n",
        "  df.rename(columns=str.lower, inplace=True)\n",
        "  df.rename(columns={'airline': 'airline_code',\n",
        "                      'origin_airport': 'origin_airport_code',\n",
        "                      'destination_airport': 'destination_airport_code'}, inplace=True)\n",
        "  \n",
        "  # correct time integers\n",
        "  df['scheduled_departure'].replace({2400: 0}, inplace=True)\n",
        "  df['departure_time'].replace({2400: 0}, inplace=True)\n",
        "  df['scheduled_arrival'].replace({2400: 0}, inplace=True)\n",
        "\n",
        "  return df\n",
        "\n",
        "\n"
      ]
    },
    {
      "cell_type": "code",
      "execution_count": 7,
      "metadata": {
        "id": "c3e7UsPxM2ML"
      },
      "outputs": [],
      "source": [
        "# functions used for feature engineering\n",
        "\n",
        "def timezone_diff(day,month, year, origin, destination):\n",
        "  '''\n",
        "  extract hour difference between cities on given day \n",
        "  - accounts for daylight savings\n",
        "\n",
        "  @author: Jon Harris\n",
        "  '''\n",
        "  date = datetime(year = year,\n",
        "                  month = month,\n",
        "                  day = day) # create datetime object\n",
        "\n",
        "  # create pytz timezone objects\n",
        "  origin_tz = pytz.timezone(origin)\n",
        "  dest_tz = pytz.timezone(destination)\n",
        "\n",
        "  # create timestamps\n",
        "  origin_ts = origin_tz.localize(date)\n",
        "  dest_ts = dest_tz.localize(date)\n",
        "\n",
        "  # package doesn't recognize Guam -- correct GUM-HNL flights\n",
        "  if (origin=='Pacific/Honolulu') & (destination=='Etc/GMT+10'):\n",
        "    return +20\n",
        "  elif (origin=='Etc/GMT+10') & (destination=='Pacific/Honolulu'):\n",
        "    return -20\n",
        "\n",
        "  return int(dest_ts.strftime('%z'))/100 - int(origin_ts.strftime('%z'))/100 #hr difference\n",
        "\n",
        "\n",
        "\n",
        "def local_timestamp(day,month,year,int_time,timezone=None):\n",
        "  '''\n",
        "  create local timestamp (@origin) based on provided calendar information\n",
        "  @author: Jon Harris\n",
        "  '''\n",
        "  ts = datetime(year = year,\n",
        "                month = month,\n",
        "                day = day,\n",
        "                hour = int(int_time//100),\n",
        "                minute = int(int_time%100)) # timestamp\n",
        "  tz = pytz.timezone(timezone) # localize timezone (otherwise reports avg)\n",
        "  return tz.localize(ts) # add timestamp to timezone\n",
        "\n",
        "\n",
        "\n",
        "def adjust_departure_ts(scheduled, actual):\n",
        "  '''\n",
        "  assume provided calendar information belongs to scheduled_departure\n",
        "  actual departure_time may occur on previous day or day after (if close to midnight)\n",
        "  @author: Jon Harris\n",
        "  '''\n",
        "  delta = actual-scheduled \n",
        "  delta_hours = delta.total_seconds()/3600\n",
        "\n",
        "  # assumes that flights don't leave 2hrs early\n",
        "  # assumes delay not >24hrs\n",
        "  cutoff = 2\n",
        "  if delta_hours < -cutoff:\n",
        "    actual = actual+timedelta(days=1)\n",
        "  elif delta_hours > 24-cutoff:\n",
        "    actual = actual-timedelta(days=1)\n",
        "\n",
        "  return actual\n",
        "\n",
        "\n",
        "\n",
        "def departure_delay(scheduled,actual):\n",
        "  '''\n",
        "  if scheduled < actual --> +total_mins\n",
        "  if scheduled > actual --> -total_mins\n",
        "\n",
        "  @author: Jon Harris\n",
        "  '''\n",
        "\n",
        "  # remove timezone\n",
        "  scheduled = scheduled.replace(tzinfo=None)\n",
        "  actual = actual.replace(tzinfo=None)\n",
        "\n",
        "  return (actual-scheduled).total_seconds()/60\n",
        "\n",
        "\n",
        "\n",
        "def round_timestamp(ts, nearest=60):\n",
        "  '''\n",
        "  round timestamp to nearest __minutes\n",
        "  - feature used to bin flights by the current hour\n",
        "  @author: Jon Harris\n",
        "  '''\n",
        "  ts = ts.replace(tzinfo = None) # remove timestamp\n",
        "  minutes = ts.minute # extract minutes\n",
        "  mod = timedelta(minutes = minutes%nearest) # remainder\n",
        "  ts -= mod # default - round down\n",
        "\n",
        "  # if closer to ts+nearest --> add nearest\n",
        "  if mod >= timedelta(minutes=nearest/2):\n",
        "    return ts + timedelta(minutes = nearest) \n",
        "\n",
        "  return ts\n",
        "\n",
        "\n",
        "\n",
        "def delta_time(depart, arrival): \n",
        "  '''\n",
        "  calculate the difference between two times\n",
        "  @author: Dimka Dellenbag\n",
        "  '''\n",
        "\n",
        "  return (depart.replace(tzinfo=None)-arrival.replace(tzinfo=None)).total_seconds()/60\n",
        "\n",
        "\n",
        "def reduce_mem_usage(X_mat, verbose=True):\n",
        "    '''\n",
        "    pandas dataframes are large --> must reduce RAM usage\n",
        "    reduce memory usage of dataframe\n",
        "    @added by: Jon Harris\n",
        "    @author: https://towardsdatascience.com/how-to-work-with-million-row-datasets-like-a-pro-76fb5c381cdd\n",
        "    '''\n",
        "    df = X_mat.copy()\n",
        "    \n",
        "    numerics = ['int8', 'int16', 'int32',\n",
        "                'int64', 'float16', 'float32', 'float64']\n",
        "    start_mem = df.memory_usage().sum() / 1024**2\n",
        "    for col in df.columns:\n",
        "        col_type = df[col].dtypes\n",
        "        if col_type in numerics:\n",
        "            c_min = df[col].min()\n",
        "            c_max = df[col].max()\n",
        "            if str(col_type)[:3] == 'int':\n",
        "                if c_min > np.iinfo(np.int8).min and c_max < np.iinfo(np.int8).max:\n",
        "                    df[col] = df[col].astype(np.int8)\n",
        "                elif c_min > np.iinfo(np.int16).min and c_max < np.iinfo(np.int16).max:\n",
        "                    df[col] = df[col].astype(np.int16)\n",
        "                elif c_min > np.iinfo(np.int32).min and c_max < np.iinfo(np.int32).max:\n",
        "                    df[col] = df[col].astype(np.int32)\n",
        "                elif c_min > np.iinfo(np.int64).min and c_max < np.iinfo(np.int64).max:\n",
        "                    df[col] = df[col].astype(np.int64)\n",
        "            else:\n",
        "                if c_min > np.finfo(np.float16).min and c_max < np.finfo(np.float16).max:\n",
        "                    df[col] = df[col].astype(np.float16)\n",
        "                elif c_min > np.finfo(np.float32).min and c_max < np.finfo(np.float32).max:\n",
        "                    df[col] = df[col].astype(np.float32)\n",
        "                else:\n",
        "                    df[col] = df[col].astype(np.float64)\n",
        "    end_mem = df.memory_usage().sum() / 1024**2\n",
        "    if verbose:\n",
        "        print('Mem. usage decreased to {:5.2f} Mb ({:.1f}% reduction)'.format(\n",
        "            end_mem, 100 * (start_mem - end_mem) / start_mem))\n",
        "    return df\n"
      ]
    },
    {
      "cell_type": "code",
      "execution_count": 8,
      "metadata": {
        "id": "sW7Ivy9IFzeM"
      },
      "outputs": [],
      "source": [
        "# pipeline that calculates all novel features\n",
        "\n",
        "def feature_engineering(X_mat):\n",
        "  ''' \n",
        "  executes all feature engineering for train-test data\n",
        "  @author: Jon Harris\n",
        "  '''\n",
        "\n",
        "  df = X_mat.copy()\n",
        "\n",
        "  # create is_MonFri boolean feature\n",
        "  ## Monday and Friday are busiest days (not weekend)\n",
        "  ### train.groupby('day_of_week').size().sort_values(ascending=False)\n",
        "  df['is_Mon'] = df['day_of_week'] == 1\n",
        "\n",
        "  # create is_summer boolean feature\n",
        "  ## Jan-Feb lowest months\n",
        "  df['is_summer'] = (df['month'] >= 5) & (df['month'] <= 8)  # May-Aug\n",
        "  df['is_winter'] = (df['month'] == 1) & (df['month'] == 1) # Jan-Feb\n",
        "\n",
        "  # calculate timezone difference between airports\n",
        "  df['timezone_diff'] = np.vectorize(timezone_diff)(df['day'],\n",
        "                                                    df['month'],\n",
        "                                                    df['year'],\n",
        "                                                    df['origin_tz'], \n",
        "                                                    df['destination_tz'])\n",
        "\n",
        "  # create local timestamp (@origin)\n",
        "  df['ts_scheduled_departure'] = np.vectorize(local_timestamp)(df['day'],\n",
        "                                                                df['month'], \n",
        "                                                                df['year'],\n",
        "                                                                df['scheduled_departure'],\n",
        "                                                                df['origin_tz'])\n",
        "  df['ts_departure_time'] = np.vectorize(local_timestamp)(df['day'],\n",
        "                                                          df['month'], \n",
        "                                                          df['year'],\n",
        "                                                          df['departure_time'],\n",
        "                                                          df['origin_tz'])\n",
        "\n",
        "  # correct departure_time timestamp\n",
        "  ## assume provided day-month-year for scheduled_departure\n",
        "  df['ts_departure_time'] = np.vectorize(adjust_departure_ts)(df['ts_scheduled_departure'], \n",
        "                                                              df['ts_departure_time'])\n",
        "\n",
        "  # calculate departure delay\n",
        "  ## delay>0 if ts_departure_time AFTER ts_scheduled_departure\n",
        "  df['departure_delay'] = np.vectorize(departure_delay)(df['ts_scheduled_departure'], \n",
        "                                                        df['ts_departure_time'])\n",
        "\n",
        "  # estimate scheduled arrival from the scheduled_time and timezone_diff times\n",
        "  min2timedelta = np.vectorize(lambda x: timedelta(minutes=int(x)))\n",
        "  replace_time = np.vectorize(lambda ts, hr, min: ts.replace(hour=int(hr), minute=int(min)))\n",
        "\n",
        "  df['est_arrival'] = df['ts_scheduled_departure'] + \\\n",
        "                          min2timedelta(df['scheduled_time']) + \\\n",
        "                          min2timedelta(df['timezone_diff']*60) # initial guess\n",
        "  df['ts_scheduled_arrival'] = replace_time(ts = df['est_arrival'], \n",
        "                                            hr = df['scheduled_arrival']//100, \n",
        "                                            min = df['scheduled_arrival']%100) # replace timestamp known scheduled_arrival\n",
        "  df['ts_scheduled_arrival'] = np.vectorize(adjust_departure_ts)(df['est_arrival'], \n",
        "                                                                df['ts_scheduled_arrival']) # correct date if necessary\n",
        "\n",
        "\n",
        "  # calculate time between scheduled_arrival and the next departing flight\n",
        "  create_datestamp = np.vectorize(lambda day, month, year: datetime(day=day, month=month, year=year))\n",
        "  df['origin_ts'] = create_datestamp(day = df['day'],\n",
        "                                    month = df['month'],\n",
        "                                    year = df['year'])\n",
        "  df.sort_values(by=['tail_number','origin_ts'], inplace=True)\n",
        "  df.reset_index(drop=True, inplace=True)\n",
        "\n",
        "  ## shift down\n",
        "  df['prev_tail_number'] = df['tail_number'].shift(1)\n",
        "  df['prev_airport'] = df['destination_airport_code'].shift(1)\n",
        "  df['prev_ts'] = df['origin_ts'].shift(1)\n",
        "  df['prev_arrival'] = df['ts_scheduled_arrival'].shift(1)\n",
        "\n",
        "  ## null value if different plane\n",
        "  is_diff_plane = df['tail_number']!=df['prev_tail_number']\n",
        "  df.loc[is_diff_plane, 'prev_tail_number'] = np.nan\n",
        "  df.loc[is_diff_plane, 'prev_airport'] = np.nan\n",
        "  df.loc[is_diff_plane, 'prev_ts'] = np.nan\n",
        "  df.loc[is_diff_plane, 'prev_arrival'] = np.nan\n",
        "\n",
        "  na_idx = np.where(df['prev_arrival'].isna())[0]\n",
        "  df.at[na_idx, 'prev_arrival'] = list( df['ts_scheduled_departure'].loc[na_idx] - timedelta(days=2) ) # effectively imputes missing values\n",
        "  df['mins_between_flights'] = df.apply(lambda x: delta_time(x['ts_scheduled_departure'], x['prev_arrival']), axis=1)\n",
        "\n",
        "\n",
        "  # estimate number of departures during same hour\n",
        "  df['ts_scheduled_departure_round'] = np.vectorize(round_timestamp)(df['ts_scheduled_departure'])\n",
        "  grouped = df.groupby(['origin_airport_code','ts_scheduled_departure_round'], as_index=False).size().rename(columns={'size':'scheduled_departure_prev_hour'}) # flights per timestamp bin\n",
        "  df = df.merge(grouped, on=['origin_airport_code','ts_scheduled_departure_round'])\n",
        "\n",
        "  # estimate number of arrivals during same hour\n",
        "  df['ts_scheduled_arrival_round'] = np.vectorize(round_timestamp)(df['ts_scheduled_arrival'])\n",
        "  grouped = df.groupby(['destination_airport_code','ts_scheduled_arrival_round'], as_index=False).size().rename(columns={'size':'scheduled_arrival_prev_hour'}) # flights per timestamp bin\n",
        "  df = df.merge(grouped, on=['destination_airport_code','ts_scheduled_arrival_round'])\n",
        "\n",
        "  # return dataframe in original order and remove features excluded from modelling\n",
        "  df.sort_values(by='id', ascending=True, inplace=True)\n",
        "\n",
        "  cols2remove = ['year',              # same across all datasets\n",
        "                 'tail_number',       # not a predictor\n",
        "                 'flight_number',     # not relevant\n",
        "                 'wheels_off',        # not needed, have departure_time+time_out\n",
        "                 'origin_tz',         # use orig_dest_tz\n",
        "                 'destination_tz',    # use orig_dest_tz\n",
        "                 'date',              # for FE, not moddeling\n",
        "                 'ts_scheduled_departure', # for FE, not modelling\n",
        "                 'ts_departure_time', # for FE, not modelling\n",
        "                 'est_arrival',\n",
        "                 'ts_scheduled_arrival', # for FE, not modelling\n",
        "                 'ts_scheduled_departure_round', # for FE, not modelling\n",
        "                 'ts_scheduled_arrival_round',   # for FE, not modelling\n",
        "                 'departure_time',       # not needed, have departure_delay\n",
        "                 'origin_ts',         # for FE, not modelling\n",
        "                 'prev_tail_number',  # for FE, not modelling\n",
        "                 'prev_airport',      # for FE, not modelling\n",
        "                 'prev_ts',           # for FE, not modelling\n",
        "                 'prev_arrival',      # for FE, not modelling\n",
        "                 'ts_scheduled_arrival_round'] # for FE, not modelling\n",
        "  df.drop(cols2remove, axis=1, errors='ignore', inplace=True)\n",
        "\n",
        "  # reduce memory usage of dataframe\n",
        "  df = reduce_mem_usage(df, verbose=True)\n",
        "\n",
        "  return df"
      ]
    },
    {
      "cell_type": "markdown",
      "metadata": {
        "id": "wtEiNldcOLDH"
      },
      "source": [
        "**overall pipeline**"
      ]
    },
    {
      "cell_type": "code",
      "execution_count": 9,
      "metadata": {
        "id": "UNM3HXO9GsHB"
      },
      "outputs": [],
      "source": [
        "def pipeline(path):\n",
        "  '''\n",
        "  entire pipeline for train and test datasets\n",
        "  @author: Jon Harris\n",
        "  '''\n",
        "\n",
        "  # import data\n",
        "  airlines = import_airlines('data/airlines.csv') # dont use for predicting\n",
        "  airports = import_airports('data/airports.csv')\n",
        "  df = import_predictors(path) # train or test data\n",
        "\n",
        "  # add airport data for origin and destination\n",
        "  origin_names = {col: 'origin_'+col for col in airports.columns}\n",
        "  dest_names = {col: 'destination_'+col for col in airports.columns}\n",
        "  df = pd.merge(df, airports.rename(columns=origin_names),\n",
        "                how='left', on='origin_airport_code') \n",
        "  df = pd.merge(df, airports.rename(columns=dest_names),\n",
        "                how='left', on='destination_airport_code')\n",
        "  \n",
        "  # feature engineering\n",
        "  df = feature_engineering(df)\n",
        "\n",
        "  return df\n",
        "\n"
      ]
    },
    {
      "cell_type": "code",
      "execution_count": 10,
      "metadata": {
        "colab": {
          "base_uri": "https://localhost:8080/"
        },
        "id": "-inLGRSjkCzk",
        "outputId": "3512e49f-b3ff-494d-bcb3-44094e771014"
      },
      "outputs": [
        {
          "name": "stdout",
          "output_type": "stream",
          "text": [
            "Mem. usage decreased to 193.53 Mb (61.5% reduction)\n",
            "Mem. usage decreased to 33.36 Mb (62.0% reduction)\n"
          ]
        }
      ],
      "source": [
        "# import manupulate train and test data\n",
        "train = pipeline('data/flights_train.csv') # import train set\n",
        "kaggle = pipeline('data/flights_test.csv') # import kaggle test set\n",
        "\n"
      ]
    },
    {
      "cell_type": "markdown",
      "metadata": {
        "id": "qlUU5kaaOa_q"
      },
      "source": [
        "# Preprocessing for Model -- Feature Transformation/Encoding\n"
      ]
    },
    {
      "cell_type": "code",
      "execution_count": null,
      "metadata": {
        "id": "bu9gCmyNFzwH"
      },
      "outputs": [],
      "source": [
        "def cyclic_encoder(df, cyclic_cols):\n",
        "  '''\n",
        "  cyclically encode specified columns\n",
        "\n",
        "  columns considered: \n",
        "  - month (must be included if transforming day)\n",
        "  - day\n",
        "  - day of week\n",
        "  - scheduled_departure\n",
        "  - scheduled_arrival\n",
        "\n",
        "  remove columns used for encoding\n",
        "\n",
        "  @author: Jon Harris\n",
        "  '''\n",
        "  ndays_per_month = {1:31, 2:28, 3:31, 4:30, 5:31, 6:30,\n",
        "                     7:31, 8:31, 9:30, 10:31, 11:30, 12:31}\n",
        "\n",
        "  processed_cols = [] # to remove later\n",
        "  for col in cyclic_cols:\n",
        "    if col=='day_of_week':\n",
        "      df[col+'_sin'] = np.sin(df[col]*2*np.pi)/7\n",
        "      df[col+'_cos'] = np.cos(df[col]*2*np.pi)/7\n",
        "      processed_cols.append(col)\n",
        "\n",
        "    elif col in ['scheduled_departure', 'scheduled_arrival']:\n",
        "      hours = df[col]//100\n",
        "      minutes = df[col]%100\n",
        "      df[col+'minutes_sin'] = np.sin(minutes*2*np.pi)/60\n",
        "      df[col+'minutes_cos'] = np.cos(minutes*2*np.pi)/60\n",
        "      df[col+'hours_sin'] = np.sin(hours*2*np.pi)/23\n",
        "      df[col+'hours_cos'] = np.cos(hours*2*np.pi)/23\n",
        "      processed_cols.append(col)\n",
        "\n",
        "    elif col=='day':\n",
        "      df[col+'_sin'] = np.sin(df[col]*2*np.pi)/df['month'].replace(ndays_per_month)\n",
        "      df[col+'_cos'] = np.cos(df[col]*2*np.pi)/df['month'].replace(ndays_per_month) \n",
        "      processed_cols.append(col)\n",
        "\n",
        "    elif col=='month':\n",
        "      df[col+'_sin'] = np.sin(df[col]*2*np.pi)/12\n",
        "      df[col+'_cos'] = np.cos(df[col]*2*np.pi)/12\n",
        "      processed_cols.append(col)\n",
        "\n",
        "    else:\n",
        "      pass\n",
        "\n",
        "  return df.drop(processed_cols,axis=1,errors='ignore') \n",
        "\n",
        "\n",
        "def sparse_dummies(df, col):\n",
        "  '''\n",
        "  convert categorical column to sparse OHE matrix \n",
        "\n",
        "  @author: alexandrnikitin (kaggle)\n",
        "  https://www.kaggle.com/alexandrnikitin/efficient-xgboost-on-sparse-matrices\n",
        "  '''\n",
        "\n",
        "  cat = pd.Categorical(df[col])\n",
        "  col_names = np.array(\n",
        "      [f'{col}_{str(cat.categories[i])}' for i in range(len(cat.categories))])\n",
        "  N = len(cat)\n",
        "  row_numbers = np.arange(N, dtype=np.int)\n",
        "  ones = np.ones((N,))\n",
        "\n",
        "  return csr_matrix((ones, (row_numbers, cat.codes))), col_names\n",
        "\n",
        "\n",
        "def create_sparce_matrix(df, ohe_cols=[], label_cols=[], cyclic_cols=[]):\n",
        "  '''\n",
        "  processes relevant features based on provided list of features\n",
        "  - ohe_cols -- list of columns to one-hot-encode\n",
        "  - label_cols -- list of features to label encode\n",
        "  - cyclic_cols -- list of features to cyclically encode (only time features)\n",
        "\n",
        "  @author: Jon Harris\n",
        "  @reference: https://www.kaggle.com/alexandrnikitin/efficient-xgboost-on-sparse-matrices\n",
        "  '''\n",
        "  mat_store = []\n",
        "  col_name_store = []\n",
        "  \n",
        "  # cyclic encode specified time features\n",
        "  if cyclic_cols:\n",
        "    df = cyclic_encoder(df, cyclic_cols)\n",
        "  \n",
        "  # one-hot-encode specified categorical features\n",
        "  if ohe_cols:\n",
        "    for col in ohe_cols:\n",
        "\n",
        "      if col in ['scheduled_departure','scheduled_arrival']:\n",
        "        df[col] = df[col]//100 # extract hour\n",
        "\n",
        "      matrix, column_names = sparse_dummies(df, col)\n",
        "      mat_store.append(matrix)\n",
        "      col_name_store.append(column_names)\n",
        "  \n",
        "  # label encode specified categorical features\n",
        "  if label_cols:\n",
        "    for col in label_cols:\n",
        "\n",
        "      if col in ['scheduled_departure','scheduled_arrival']:\n",
        "        df[col] = df[col]//100 # extract hour\n",
        "      else:\n",
        "        uniq = df[col].unique().tolist()\n",
        "        encode_dict = dict(zip(sorted(uniq), range(len(uniq))))\n",
        "        df[col] = df[col].replace(encode_dict)\n",
        "  \n",
        "\n",
        "  # create sparse matrix\n",
        "  ## output of OHE=sparse matrix\n",
        "  num_cols = df.drop(ohe_cols, axis=1, errors='ignore').columns\n",
        "  mat_store.append(csr_matrix(df[num_cols].values, dtype=float))\n",
        "  col_name_store.append(df[num_cols].columns.values)\n",
        "\n",
        "  sparce_matrix = hstack(mat_store, format='csr')\n",
        "  feature_names = np.concatenate(col_name_store)\n",
        "\n",
        "  return sparce_matrix, feature_names\n"
      ]
    },
    {
      "cell_type": "markdown",
      "metadata": {
        "id": "PRzfZI2RqOzq"
      },
      "source": [
        "# MODELING"
      ]
    },
    {
      "cell_type": "code",
      "execution_count": null,
      "metadata": {
        "id": "otvLie2R1cx6"
      },
      "outputs": [],
      "source": [
        "# functions used for modelling\n",
        "\n",
        "def generate_split_indices(idxs_range, test_size=0.33):\n",
        "  '''\n",
        "  perform a train-test split by segmenting via indices\n",
        "  @author: Jon Harris\n",
        "  '''\n",
        "  idxs = list(idxs_range)\n",
        "\n",
        "  random.seed(0)  # shuffle the same every time\n",
        "  random.shuffle(idxs)\n",
        "  cut = int(len(idxs)*test_size)  # 30/70 test-train split\n",
        "\n",
        "  return idxs[:cut], idxs[cut:]\n",
        "\n",
        "\n",
        "def export_kaggle_prediction(model, test_subset, sample_path, file_name):\n",
        "  '''\n",
        "  import sample submission csv from path\n",
        "  predict arrival delay from test_subset\n",
        "  export delay prediciton as as csv\n",
        "  @author: Jon Harris\n",
        "  '''\n",
        "\n",
        "  kaggle_submission = pd.read_csv(sample_path)\n",
        "  kaggle_submission['ARRIVAL_DELAY'] = model.predict(test_subset)\n",
        "  kaggle_submission.to_csv(file_name, index=False) # save to personal gDrive\n",
        "  print('----- prediction saved -----')\n",
        "\n",
        "\n",
        "def run_lgbm(model_name, train_df, kaggle_df, train_idx, test_idx, kaggle_idx, feats2exclude, ohe_cols, label_cols, cyclic_cols):\n",
        "  '''\n",
        "  created to automate LGBMRegressor with different variations of encoding and features\n",
        "  - transform specified features\n",
        "  - create sparse data matrix \n",
        "  - train-test split the sparse matrix --> export as .npz files for NN code\n",
        "  - create and fit model with the sparse data matrices\n",
        "  - predict train and test arrival_delays\n",
        "  - print results\n",
        "  - predict kaggle arrival_delay and save as .csv\n",
        "  @author: Jon Harris \n",
        "  '''\n",
        "\n",
        "  # create sparse matrix of predictors and separate response variable\n",
        "  feats2exclude.extend(['arrival_delay','id'])\n",
        "  X, feature_names = create_sparce_matrix(pd.concat([train_df.drop(feats2exclude, \n",
        "                                                              axis=1, \n",
        "                                                              errors='ignore'),\n",
        "                                                     kaggle_df.drop(feats2exclude, \n",
        "                                                                    axis=1, \n",
        "                                                                    errors='ignore')]), # combine train/test datasets\n",
        "                                        ohe_cols=ohe_cols,\n",
        "                                        label_cols=label_cols,\n",
        "                                        cyclic_cols=cyclic_cols) # features to encode\n",
        "  y = train['arrival_delay'].values # response variable\n",
        "\n",
        "\n",
        "  # save model data\n",
        "  np.savez_compressed(f'data/model_data/{model_name}.npz',\n",
        "                      X_train = X[train_idx].toarray(),\n",
        "                      X_test = X[test_idx].toarray(),\n",
        "                      y_train = np.asarray(y[train_idx]),\n",
        "                      y_test = np.asarray(y[test_idx]),\n",
        "                      X_kaggle = X[list(kaggle_idx)].toarray(), \n",
        "                      feature_names = np.asarray(feature_names)\n",
        "                      )\n",
        "\n",
        "  # model\n",
        "  model = lgb.LGBMRegressor(random_state=0) # instantiate model\n",
        "  model.fit(X[train_idx], y[train_idx]) # fit model\n",
        "\n",
        "  train_rmse = MSE(y[train_idx], # train-response\n",
        "                          model.predict(X[train_idx])) # train-response\n",
        "  test_rmse = MSE(y[test_idx], # test-response\n",
        "                          model.predict(X[test_idx])) # test-predict\n",
        "\n",
        "  print()\n",
        "  print(f'{model_name.upper()}')\n",
        "  print(f'Outliers Removed: {2818553-len(test_idx) - len(train_idx)}')\n",
        "  print(f'features used: ')\n",
        "  print('\\n\\t'.join(map(str, sorted(train.drop(feats2exclude,axis=1, errors='ignore').columns))))\n",
        "  print(f'total features (after encoding): {len(feature_names)})')\n",
        "  print(f'train MSE: {train_rmse}')\n",
        "  print(f'test MSE: {test_rmse}')\n",
        "  print()\n",
        "\n",
        "  export_kaggle_prediction(model, \n",
        "                          X[kaggle_idx], \n",
        "                          'data/submit_sample.csv', \n",
        "                          f'data/predictions/{model_name}.csv') # store results as csv\n"
      ]
    },
    {
      "cell_type": "code",
      "execution_count": null,
      "metadata": {
        "id": "dw942ngF1DWZ"
      },
      "outputs": [],
      "source": [
        "# store engineered features -- easy to exclude for naive models\n",
        "engineered_feats = ['is_Mon', \n",
        "                    'is_summer', \n",
        "                    'is_winter', \n",
        "                    'timezone_diff',\n",
        "                    'departure_delay',\n",
        "                    'mins_between_flights',\n",
        "                    'scheduled_departure_prev_hour', \n",
        "                    'scheduled_arrival_prev_hour']\n"
      ]
    },
    {
      "cell_type": "code",
      "execution_count": null,
      "metadata": {
        "id": "XcRl2HTSo56A"
      },
      "outputs": [],
      "source": [
        "# processing requires combining train-test sets\n",
        "## must store indices to separate data later for modelling/predicting\n",
        "max_train_id = max(train.id)\n",
        "train_ids = range(max_train_id+1) # corresponds to index\n",
        "kaggle_ids = range(max_train_id+1,max_train_id+max(kaggle.id)+2) # corresponds to index\n",
        "\n",
        "# train-test split (store indices instead of copying dataframes)\n",
        "test_idx, train_idx = generate_split_indices(train_ids)\n"
      ]
    },
    {
      "cell_type": "markdown",
      "metadata": {
        "id": "iDHJpkYWQdJd"
      },
      "source": [
        "## Naive Model + OHEcat\n",
        "\n"
      ]
    },
    {
      "cell_type": "markdown",
      "metadata": {
        "id": "YWM9SrQZIhDC"
      },
      "source": [
        "- one-hot-encode categorical features\n",
        "  - airline_code\n",
        "  - origin_airport_code\n",
        "  - destinatino_airport_code\n",
        "\n",
        "- time features not manipulated\n",
        "\n",
        "- engineered features excluded"
      ]
    },
    {
      "cell_type": "code",
      "execution_count": null,
      "metadata": {
        "colab": {
          "base_uri": "https://localhost:8080/"
        },
        "id": "fLNi4azai44q",
        "outputId": "f1d491a4-5f05-48a1-b5ee-9d53f5ab6a16"
      },
      "outputs": [
        {
          "name": "stdout",
          "output_type": "stream",
          "text": [
            "\n",
            "LGBM_NAIVE_OHECAT\n",
            "Outliers Removed: 0\n",
            "features used: \n",
            "airline_code\n",
            "\tday\n",
            "\tday_of_week\n",
            "\tdestination_airport_code\n",
            "\tdestination_latitude\n",
            "\tdestination_longitude\n",
            "\tdistance\n",
            "\tmonth\n",
            "\torigin_airport_code\n",
            "\torigin_latitude\n",
            "\torigin_longitude\n",
            "\tscheduled_arrival\n",
            "\tscheduled_departure\n",
            "\tscheduled_time\n",
            "\ttaxi_out\n",
            "total features (after encoding): 670)\n",
            "train MSE: 1388.9670348254776\n",
            "test MSE: 1413.3555430063057\n",
            "\n",
            "----- prediction saved -----\n"
          ]
        }
      ],
      "source": [
        "input_dict = {'model_name':'lgbm_naive_OHEcat',\n",
        "              'train_df':train,\n",
        "              'kaggle_df':kaggle, \n",
        "              'train_idx':train_idx, \n",
        "              'test_idx':test_idx, \n",
        "              'kaggle_idx':kaggle_ids, \n",
        "              'feats2exclude':engineered_feats, # function automatically removes arrival_delay and id\n",
        "              'ohe_cols': ['airline_code','origin_airport_code','destination_airport_code'], \n",
        "              'label_cols':[], \n",
        "              'cyclic_cols':[]}\n",
        "run_lgbm(**input_dict)"
      ]
    },
    {
      "cell_type": "markdown",
      "metadata": {
        "id": "gba15o9YKy-R"
      },
      "source": [
        "## Naive Model + LABcat\n"
      ]
    },
    {
      "cell_type": "markdown",
      "metadata": {
        "id": "kEvoCf_CIePq"
      },
      "source": [
        "- label-encode categorical features\n",
        "  - airline_code\n",
        "  - origin_airport_code\n",
        "  - destinatino_airport_code\n",
        "\n",
        "- time features not manipulated\n",
        "\n",
        "- engineered features excluded"
      ]
    },
    {
      "cell_type": "code",
      "execution_count": null,
      "metadata": {
        "colab": {
          "base_uri": "https://localhost:8080/"
        },
        "id": "GJWmogPWpawE",
        "outputId": "f6436753-376f-4b9d-bdf1-134b1fcaaff6"
      },
      "outputs": [
        {
          "name": "stdout",
          "output_type": "stream",
          "text": [
            "\n",
            "LGBM_NAIVE_LABCAT\n",
            "Outliers Removed: 0\n",
            "features used: \n",
            "airline_code\n",
            "\tday\n",
            "\tday_of_week\n",
            "\tdestination_airport_code\n",
            "\tdestination_latitude\n",
            "\tdestination_longitude\n",
            "\tdistance\n",
            "\tmonth\n",
            "\torigin_airport_code\n",
            "\torigin_latitude\n",
            "\torigin_longitude\n",
            "\tscheduled_arrival\n",
            "\tscheduled_departure\n",
            "\tscheduled_time\n",
            "\ttaxi_out\n",
            "total features (after encoding): 15)\n",
            "train MSE: 1394.4444708988606\n",
            "test MSE: 1418.0315929436008\n",
            "\n",
            "----- prediction saved -----\n"
          ]
        }
      ],
      "source": [
        "input_dict = {'model_name':'lgbm_naive_LABcat',\n",
        "              'train_df':train,\n",
        "              'kaggle_df':kaggle, \n",
        "              'train_idx':train_idx, \n",
        "              'test_idx':test_idx, \n",
        "              'kaggle_idx':kaggle_ids, \n",
        "              'feats2exclude':engineered_feats, # function automatically removes arrival_delay and id\n",
        "              'ohe_cols': [], \n",
        "              'label_cols':['airline_code','origin_airport_code','destination_airport_code'], \n",
        "              'cyclic_cols':[]}\n",
        "run_lgbm(**input_dict)"
      ]
    },
    {
      "cell_type": "markdown",
      "metadata": {
        "id": "CRQhw8JSrJQT"
      },
      "source": [
        "## Naive Model + LABcat + OHEtime\n"
      ]
    },
    {
      "cell_type": "markdown",
      "metadata": {
        "id": "nndpZhaqIY1Q"
      },
      "source": [
        "**label-encode categorical features outperformed OHE**\n",
        "\n",
        "- label-encode categorical features\n",
        "  - airline_code\n",
        "  - origin_airport_code\n",
        "  - destinatino_airport_code\n",
        "  \n",
        "- one-hot-encode time features\n",
        "  - day\n",
        "  - month_cat (instead of month)\n",
        "  - dow_cat (instead of day_of_week)\n",
        "  - scheduled_departure (only consider hour)\n",
        "  - scheduled_arrival (only consider hour)\n",
        "\n",
        "- engineered features excluded"
      ]
    },
    {
      "cell_type": "code",
      "execution_count": null,
      "metadata": {
        "colab": {
          "base_uri": "https://localhost:8080/"
        },
        "id": "yAYan8C-phUf",
        "outputId": "6490aa0a-6353-4693-bc32-7d4edf184b2d"
      },
      "outputs": [
        {
          "name": "stdout",
          "output_type": "stream",
          "text": [
            "\n",
            "LGBM_NAIVE_LABCAT_OHETIME\n",
            "Outliers Removed: 0\n",
            "features used: \n",
            "airline_code\n",
            "\tday\n",
            "\tday_of_week\n",
            "\tdestination_airport_code\n",
            "\tdestination_latitude\n",
            "\tdestination_longitude\n",
            "\tdistance\n",
            "\tmonth\n",
            "\torigin_airport_code\n",
            "\torigin_latitude\n",
            "\torigin_longitude\n",
            "\tscheduled_arrival\n",
            "\tscheduled_departure\n",
            "\tscheduled_time\n",
            "\ttaxi_out\n",
            "total features (after encoding): 103)\n",
            "train MSE: 1409.0518199429098\n",
            "test MSE: 1432.8328406937228\n",
            "\n",
            "----- prediction saved -----\n"
          ]
        }
      ],
      "source": [
        "input_dict = {'model_name':'lgbm_naive_LABcat_OHEtime',\n",
        "              'train_df':train,\n",
        "              'kaggle_df':kaggle, \n",
        "              'train_idx':train_idx, \n",
        "              'test_idx':test_idx, \n",
        "              'kaggle_idx':kaggle_ids, \n",
        "              'feats2exclude':engineered_feats, # function automatically removes arrival_delay and id\n",
        "              'ohe_cols': ['day',\n",
        "                           'month', \n",
        "                           'day_of_week',\n",
        "                           'scheduled_departure', \n",
        "                           'scheduled_arrival'] , \n",
        "              'label_cols':['airline_code',\n",
        "                            'origin_airport_code',\n",
        "                            'destination_airport_code'], \n",
        "              'cyclic_cols':[]}\n",
        "run_lgbm(**input_dict)"
      ]
    },
    {
      "cell_type": "markdown",
      "metadata": {
        "id": "L9KuGA-ksVNy"
      },
      "source": [
        "## Naive Model + LABcat + LABtime\n"
      ]
    },
    {
      "cell_type": "markdown",
      "metadata": {
        "id": "PvtI6fH3IWjr"
      },
      "source": [
        "**label-encode categorical features outperformed OHEcat**\n",
        "\n",
        "- label-encode categorical features\n",
        "  - airline_code\n",
        "  - origin_airport_code\n",
        "  - destinatino_airport_code\n",
        "  \n",
        "- ALSO label-encode time features\n",
        "  - day\n",
        "  - month \n",
        "  - day_of_week\n",
        "  - scheduled_departure (only consider hour)\n",
        "  - scheduled_arrival (only consider hour)\n",
        "\n",
        "- engineered features excluded"
      ]
    },
    {
      "cell_type": "code",
      "execution_count": null,
      "metadata": {
        "colab": {
          "base_uri": "https://localhost:8080/"
        },
        "id": "A_gwty01pvxq",
        "outputId": "ab51b939-7882-4958-92ae-8112a09f3e04"
      },
      "outputs": [
        {
          "name": "stdout",
          "output_type": "stream",
          "text": [
            "\n",
            "LGBM_NAIVE_LABCAT_LABTIME\n",
            "Outliers Removed: 0\n",
            "features used: \n",
            "airline_code\n",
            "\tday\n",
            "\tday_of_week\n",
            "\tdestination_airport_code\n",
            "\tdestination_latitude\n",
            "\tdestination_longitude\n",
            "\tdistance\n",
            "\tmonth\n",
            "\torigin_airport_code\n",
            "\torigin_latitude\n",
            "\torigin_longitude\n",
            "\tscheduled_arrival\n",
            "\tscheduled_departure\n",
            "\tscheduled_time\n",
            "\ttaxi_out\n",
            "total features (after encoding): 15)\n",
            "train MSE: 1392.8234090673764\n",
            "test MSE: 1416.632648387643\n",
            "\n",
            "----- prediction saved -----\n"
          ]
        }
      ],
      "source": [
        "input_dict = {'model_name':'lgbm_naive_LABcat_LABtime',\n",
        "              'train_df':train,\n",
        "              'kaggle_df':kaggle, \n",
        "              'train_idx':train_idx, \n",
        "              'test_idx':test_idx, \n",
        "              'kaggle_idx':kaggle_ids, \n",
        "              'feats2exclude':engineered_feats, # function automatically removes arrival_delay and id\n",
        "              'ohe_cols': [] , \n",
        "              'label_cols':['airline_code',\n",
        "                            'origin_airport_code',\n",
        "                            'destination_airport_code',\n",
        "                            'day',\n",
        "                            'month', \n",
        "                            'day_of_week',\n",
        "                            'scheduled_departure', \n",
        "                            'scheduled_arrival'], \n",
        "              'cyclic_cols':[]}\n",
        "run_lgbm(**input_dict)"
      ]
    },
    {
      "cell_type": "code",
      "execution_count": null,
      "metadata": {
        "id": "hDNXPfm2r14T"
      },
      "outputs": [],
      "source": []
    },
    {
      "cell_type": "markdown",
      "metadata": {
        "id": "PBJoNvR12xkV"
      },
      "source": [
        "## Naive Model + LABcat + CYCtime\n"
      ]
    },
    {
      "cell_type": "markdown",
      "metadata": {
        "id": "UGb9nJbzIR9L"
      },
      "source": [
        "**label-encode categorical features outperformed OHEcat**\n",
        "\n",
        "- label-encode categorical features\n",
        "  - airline_code\n",
        "  - origin_airport_code\n",
        "  - destinatino_airport_code\n",
        "  \n",
        "- cyclic-encode time features --> create _sin & _cos feats\n",
        "  - day\n",
        "  - month\n",
        "  - day_of_week\n",
        "  - scheduled_departure\n",
        "  - scheduled_arrival\n",
        "\n",
        "- engineered features excluded"
      ]
    },
    {
      "cell_type": "code",
      "execution_count": null,
      "metadata": {
        "colab": {
          "base_uri": "https://localhost:8080/"
        },
        "id": "ZD8U594Ep4dG",
        "outputId": "33137003-398e-4b9a-f033-5d14e57b6274"
      },
      "outputs": [
        {
          "name": "stdout",
          "output_type": "stream",
          "text": [
            "\n",
            "LGBM_NAIVE_LABCAT_CYCTIME\n",
            "Outliers Removed: 0\n",
            "features used: \n",
            "airline_code\n",
            "\tday\n",
            "\tday_of_week\n",
            "\tdestination_airport_code\n",
            "\tdestination_latitude\n",
            "\tdestination_longitude\n",
            "\tdistance\n",
            "\tmonth\n",
            "\torigin_airport_code\n",
            "\torigin_latitude\n",
            "\torigin_longitude\n",
            "\tscheduled_arrival\n",
            "\tscheduled_departure\n",
            "\tscheduled_time\n",
            "\ttaxi_out\n",
            "total features (after encoding): 24)\n",
            "train MSE: 1404.3231043518285\n",
            "test MSE: 1427.2212802604615\n",
            "\n",
            "----- prediction saved -----\n"
          ]
        }
      ],
      "source": [
        "input_dict = {'model_name':'lgbm_naive_LABcat_CYCtime',\n",
        "              'train_df':train,\n",
        "              'kaggle_df':kaggle, \n",
        "              'train_idx':train_idx, \n",
        "              'test_idx':test_idx, \n",
        "              'kaggle_idx':kaggle_ids, \n",
        "              'feats2exclude':engineered_feats, # function automatically removes arrival_delay and id\n",
        "              'ohe_cols': [] , \n",
        "              'label_cols':['airline_code',\n",
        "                            'origin_airport_code',\n",
        "                            'destination_airport_code'], \n",
        "              'cyclic_cols':['day',\n",
        "                             'month', \n",
        "                             'day_of_week',\n",
        "                             'scheduled_departure', \n",
        "                             'scheduled_arrival']}\n",
        "run_lgbm(**input_dict)"
      ]
    },
    {
      "cell_type": "markdown",
      "metadata": {
        "id": "WEEk6a2W7XR0"
      },
      "source": [
        "## Best Model - arrival_delay outliers\n"
      ]
    },
    {
      "cell_type": "markdown",
      "metadata": {
        "id": "KRw9I5DIIIij"
      },
      "source": [
        "**Best Model = Naive + LABcat**\n",
        "\n",
        "- label-encode categorical features\n",
        "  - airline_code\n",
        "  - origin_airport_code\n",
        "  - destination_airport_code\n",
        "\n",
        "- engineered features excluded"
      ]
    },
    {
      "cell_type": "markdown",
      "metadata": {
        "id": "p3uQLsUhFo7W"
      },
      "source": [
        "**Inspect arrival_delay Outliers** **bold text**"
      ]
    },
    {
      "cell_type": "code",
      "execution_count": null,
      "metadata": {
        "id": "mFhdKe65DLXW"
      },
      "outputs": [],
      "source": [
        "# # how many flights are in the top _% of delays? \n",
        "# top_perc = 0.05\n",
        "\n",
        "# data = pd.Series(np.where(train['arrival_delay']<0,0, train['arrival_delay'])) # remove neg values\n",
        "# data = pd.DataFrame(round(data/10,0)*10,columns=['bins']) # round (to create bins of 10mins)\n",
        "# bins_df = data.groupby('bins',as_index=False).agg(count=('bins','size')) # group by bin\n",
        "# bins_df['perc'] = bins_df['count']/train.shape[0]*100\n",
        "# bins_df['cumsum_count'] = np.cumsum( bins_df['count'] )\n",
        "# bins_df['cumsum_count_remain'] = pd.Series([train.shape[0]]*bins_df.shape[0])-bins_df['cumsum_count']\n",
        "# bins_df['cumsum_perc'] = np.cumsum( bins_df['perc'] )\n",
        "\n",
        "# # plot\n",
        "# subset = bins_df[bins_df['cumsum_perc']>(100-top_perc)]\n",
        "\n",
        "# plt.figure(figsize=(5, 3), dpi=1200)\n",
        "# plt.plot(bins_df['bins'],bins_df['cumsum_perc'])\n",
        "# plt.xlabel('Arrival Delay [min]')\n",
        "# plt.ylabel('Cumsum [%]')\n",
        "# plt.plot(subset['bins'],\n",
        "#          subset['cumsum_perc'], \n",
        "#          color='r')\n",
        "# plt.title(f\"Top {top_perc}% delays (>{int(subset['bins'].iloc[0])}min): {subset['cumsum_count_remain'].iloc[0]} flights\")\n",
        "# plt.show()\n",
        "\n"
      ]
    },
    {
      "cell_type": "code",
      "execution_count": null,
      "metadata": {
        "id": "6WJWaxTCm-Nt"
      },
      "outputs": [],
      "source": [
        "# # id and remove outliers (create new dataframe)\n",
        "# cutoff = subset['bins'].iloc[0] # minutes ~ determined from plot\n",
        "# outlier_idx = train[train['arrival_delay']>cutoff].index\n",
        "# train_wo_outlier = train.copy().drop(outlier_idx).reset_index(drop=True) # new train dataset\n",
        "\n",
        "# # track new indices\n",
        "# max_train_outlier_id = max(train_wo_outlier.index)\n",
        "# train_outlier_ids = range(max_train_outlier_id+1) # train idxs\n",
        "# kaggle_ids = range(max_train_outlier_id+1,max_train_outlier_id+max(kaggle.id)+2) # kaggle idx\n",
        "# test_outlier_idx, train_outlier_idx = generate_split_indices(train_outlier_ids) # train-test idxs\n"
      ]
    },
    {
      "cell_type": "code",
      "execution_count": null,
      "metadata": {
        "id": "rLSNGWcUqGAN"
      },
      "outputs": [],
      "source": [
        "# input_dict = {'model_name':'lgbm_naive_LABcat_OHEtime_woOutliers',\n",
        "#               'train_df':train,\n",
        "#               'kaggle_df':kaggle, \n",
        "#               'train_idx':train_outlier_idx, \n",
        "#               'test_idx':test_outlier_idx, \n",
        "#               'kaggle_idx':kaggle_ids, \n",
        "#               'feats2exclude':engineered_feats, # function automatically removes arrival_delay and id\n",
        "#               'ohe_cols': ['day',\n",
        "#                            'month', \n",
        "#                            'day_of_week',\n",
        "#                            'scheduled_departure', \n",
        "#                            'scheduled_arrival'] , \n",
        "#               'label_cols':['airline_code',\n",
        "#                             'origin_airport_code',\n",
        "#                             'destination_airport_code'], \n",
        "#               'cyclic_cols':[]}\n",
        "# run_lgbm(**input_dict)"
      ]
    },
    {
      "cell_type": "markdown",
      "metadata": {
        "id": "PFh4sDYqDeb5"
      },
      "source": [
        "## Naive Model + LABcat + OHEtime + Features\n"
      ]
    },
    {
      "cell_type": "markdown",
      "metadata": {
        "id": "sXRNUCJAIEsM"
      },
      "source": [
        "- label-encode categorical features\n",
        "  - airline_code\n",
        "  - origin_airport_code\n",
        "  - destinatino_airport_code\n",
        "  \n",
        "- one-hot-encode time features\n",
        "  - day\n",
        "  - month_cat (instead of month)\n",
        "  - dow_cat (instead of day_of_week)\n",
        "  - scheduled_departure (only consider hour)\n",
        "  - scheduled_arrival (only consider hour)\n",
        "\n",
        "- include engineered features\n",
        "  - is_MonFri\n",
        "  - is_summer\n",
        "  - departure_delay (min)\n",
        "  - orig_dest_tz (category)"
      ]
    },
    {
      "cell_type": "code",
      "execution_count": null,
      "metadata": {
        "colab": {
          "base_uri": "https://localhost:8080/"
        },
        "id": "Prtka8DDJJRd",
        "outputId": "8953feca-aa23-40dd-daf3-06f346052f76"
      },
      "outputs": [
        {
          "name": "stdout",
          "output_type": "stream",
          "text": [
            "\n",
            "NAIVE_LABCAT_OHETIME_FE\n",
            "Outliers Removed: 0\n",
            "features used: \n",
            "airline_code\n",
            "\tday\n",
            "\tday_of_week\n",
            "\tdeparture_delay\n",
            "\tdestination_airport_code\n",
            "\tdestination_latitude\n",
            "\tdestination_longitude\n",
            "\tdistance\n",
            "\tis_Mon\n",
            "\tis_summer\n",
            "\tis_winter\n",
            "\tmins_between_flights\n",
            "\tmonth\n",
            "\torigin_airport_code\n",
            "\torigin_latitude\n",
            "\torigin_longitude\n",
            "\tscheduled_arrival\n",
            "\tscheduled_arrival_prev_hour\n",
            "\tscheduled_departure\n",
            "\tscheduled_departure_prev_hour\n",
            "\tscheduled_time\n",
            "\ttaxi_out\n",
            "\ttimezone_diff\n",
            "total features (after encoding): 678)\n",
            "train MSE: 106.9359044469419\n",
            "test MSE: 118.18419666765388\n",
            "\n",
            "----- prediction saved -----\n"
          ]
        }
      ],
      "source": [
        "input_dict = {'model_name':'naive_LABcat_OHEtime_FE',\n",
        "              'train_df':train,\n",
        "              'kaggle_df':kaggle, \n",
        "              'train_idx':train_idx, \n",
        "              'test_idx':test_idx, \n",
        "              'kaggle_idx':kaggle_ids, \n",
        "              'feats2exclude':[],\n",
        "              'ohe_cols': ['airline_code',\n",
        "                            'origin_airport_code',\n",
        "                            'destination_airport_code'] , \n",
        "              'label_cols':[], \n",
        "              'cyclic_cols':[]}\n",
        "run_lgbm(**input_dict)"
      ]
    },
    {
      "cell_type": "markdown",
      "metadata": {
        "id": "4OwINSi52w-c"
      },
      "source": [
        "## Hyperparameter Tuning"
      ]
    },
    {
      "cell_type": "code",
      "execution_count": null,
      "metadata": {
        "id": "-Vy8K6wvDoxV"
      },
      "outputs": [],
      "source": [
        "#@author: Jon Harris\n",
        "# prepare data \n",
        "ohe_cols = ['airline_code',\n",
        "              'origin_airport_code',\n",
        "              'destination_airport_code']          # feats to be ohe\n",
        "label_cols = [] # feats to be label encoded\n",
        "cyclic_cols = []                          # no cyclic encoding\n",
        "feats2exclude = ['arrival_delay','id']    # exclude from model\n",
        "\n",
        "# pre-process data\n",
        "X, feature_names = create_sparce_matrix(pd.concat([train.drop(feats2exclude, \n",
        "                                                            axis=1, \n",
        "                                                            errors='ignore'),\n",
        "                                                    kaggle.drop(feats2exclude, \n",
        "                                                                  axis=1, \n",
        "                                                                  errors='ignore')]), # combine train/test datasets\n",
        "                                       ohe_cols=ohe_cols,\n",
        "                                       label_cols=label_cols,\n",
        "                                       cyclic_cols=cyclic_cols) # features to encode\n",
        "y = train['arrival_delay'].values # response variable\n",
        "\n",
        "\n",
        "\n",
        "\n",
        "# train-test split\n",
        "max_train_id = max(train.id)\n",
        "train_ids = range(max_train_id+1) # X indices belonging to training data\n",
        "kaggle_ids = range(max_train_id+1,\n",
        "                   max_train_id+max(kaggle.id)+2) # X indices belonging to kaggle\n",
        "test_idx, train_idx = generate_split_indices(train_ids) # split train into train-test\n"
      ]
    },
    {
      "cell_type": "markdown",
      "metadata": {
        "id": "Yk9qK21m2zsL"
      },
      "source": [
        "#### RandomSearchCV"
      ]
    },
    {
      "cell_type": "markdown",
      "metadata": {
        "id": "L3FvJnF-C-Ay"
      },
      "source": [
        "\n",
        "1. parameters that affect strcuture and learning of decision trees\n",
        "  - num_leaves = control n leaves in single tree (default=31)\n",
        "  - max_depth = n levels in single tree (default=-1, no limit)\n",
        "2. parameters that affect the training speed\n",
        "  - n_estimators = control n decision trees\n",
        "  - learning_rate = (default=0.1) [suggest 0.01-0.3]\n",
        "3. parameters for better accuracy\n",
        "4. parameters to combat overfitting"
      ]
    },
    {
      "cell_type": "code",
      "execution_count": null,
      "metadata": {
        "colab": {
          "base_uri": "https://localhost:8080/"
        },
        "id": "U90HBd6r2v7T",
        "outputId": "646a1058-c468-473d-baf1-3599dfeaa4c2"
      },
      "outputs": [
        {
          "name": "stdout",
          "output_type": "stream",
          "text": [
            "Fitting 2 folds for each of 100 candidates, totalling 200 fits\n",
            "train RMSE: 6.2044938798475995\n",
            "test RMSE: 8.732054483982024\n",
            "Best MSE 70.066 params {'reg_alpha': 19, 'num_leaves': 200, 'n_estimators': 2000, 'max_depth': 39, 'learning_rate': 0.08858667904100823}\n",
            "----- prediction saved -----\n"
          ]
        }
      ],
      "source": [
        "param_grid = {\n",
        "    'learning_rate':    np.logspace(-5,0,20),  # step size [0.1-1]\n",
        "    'n_estimators':     np.linspace(5, 2000, 20, dtype = int),    # n boosted trees [0-inf]\n",
        "    'max_depth':        np.linspace(2, 50, 20, dtype = int),     # depth of tree [1-inf]\n",
        "    'num_leaves':       np.linspace(5, 200, 20, dtype = int),   # max leaves per tree [1-inf]\n",
        "    'reg_alpha':        np.linspace(1, 50, 20, dtype = int),  # regularization [0-inf]\n",
        "    }\n",
        "\n",
        "model = lgb.LGBMRegressor(random_state=0) # instantiate model\n",
        "kf = KFold(n_splits=2, random_state=None)\n",
        "rand_search = RandomizedSearchCV(model, \n",
        "                                 param_grid,\n",
        "                                 n_iter = 100, # number of interations \n",
        "                                 scoring='neg_mean_squared_error',\n",
        "                                 cv = kf,\n",
        "                                 verbose = 10,\n",
        "                                 random_state = 0,\n",
        "                                 n_jobs = -1)\n",
        "rand_search.fit(X[train_idx],y[train_idx]) # fit best model with data\n",
        "\n",
        "train_rmse = np.sqrt(MSE(y[train_idx], rand_search.predict(X[train_idx]))) # train error\n",
        "test_rmse = np.sqrt(MSE(y[test_idx], rand_search.predict(X[test_idx])))    # train error\n",
        "\n",
        "print(f'train RMSE: {train_rmse}')\n",
        "print(f'test RMSE: {test_rmse}')\n",
        "\n",
        "print(\"Best MSE {:.3f} params {}\".format(-rand_search.best_score_, \n",
        "                                         rand_search.best_params_))\n",
        "\n",
        "export_kaggle_prediction(rand_search, \n",
        "                         X[kaggle_ids], \n",
        "                         'data/submit_sample.csv', \n",
        "                         f'data/predictions/random_search.csv') # store results as csv\n",
        "\n",
        "\n"
      ]
    },
    {
      "cell_type": "code",
      "execution_count": null,
      "metadata": {
        "colab": {
          "base_uri": "https://localhost:8080/",
          "height": 232
        },
        "id": "_i5_i49KmIl_",
        "outputId": "6d8bbdb6-ba6c-4144-f73f-b87f3797c846"
      },
      "outputs": [
        {
          "ename": "NameError",
          "evalue": "ignored",
          "output_type": "error",
          "traceback": [
            "\u001b[0;31m---------------------------------------------------------------------------\u001b[0m",
            "\u001b[0;31mNameError\u001b[0m                                 Traceback (most recent call last)",
            "\u001b[0;32m<ipython-input-1-c0018328f6ed>\u001b[0m in \u001b[0;36m<module>\u001b[0;34m()\u001b[0m\n\u001b[1;32m      5\u001b[0m \u001b[0;31m# best_model.feature_importances_\u001b[0m\u001b[0;34m\u001b[0m\u001b[0;34m\u001b[0m\u001b[0;34m\u001b[0m\u001b[0m\n\u001b[1;32m      6\u001b[0m \u001b[0;34m\u001b[0m\u001b[0m\n\u001b[0;32m----> 7\u001b[0;31m \u001b[0mfold_importance_df\u001b[0m \u001b[0;34m=\u001b[0m \u001b[0mpd\u001b[0m\u001b[0;34m.\u001b[0m\u001b[0mDataFrame\u001b[0m\u001b[0;34m(\u001b[0m\u001b[0;34m)\u001b[0m\u001b[0;34m\u001b[0m\u001b[0;34m\u001b[0m\u001b[0m\n\u001b[0m\u001b[1;32m      8\u001b[0m \u001b[0mfold_importance_df\u001b[0m\u001b[0;34m[\u001b[0m\u001b[0;34m\"feature\"\u001b[0m\u001b[0;34m]\u001b[0m \u001b[0;34m=\u001b[0m \u001b[0mfeature_names\u001b[0m\u001b[0;34m\u001b[0m\u001b[0;34m\u001b[0m\u001b[0m\n\u001b[1;32m      9\u001b[0m \u001b[0mfold_importance_df\u001b[0m\u001b[0;34m[\u001b[0m\u001b[0;34m\"importance\"\u001b[0m\u001b[0;34m]\u001b[0m \u001b[0;34m=\u001b[0m \u001b[0mbest_model\u001b[0m\u001b[0;34m.\u001b[0m\u001b[0mfeature_importances_\u001b[0m\u001b[0;34m\u001b[0m\u001b[0;34m\u001b[0m\u001b[0m\n",
            "\u001b[0;31mNameError\u001b[0m: name 'pd' is not defined"
          ]
        }
      ],
      "source": [
        "# train model with best parameters\n",
        "\n",
        "# best_model = lgb.LGBMRegressor(**rand_search.best_params_, random_state=0, importance_type='gain')\n",
        "# best_model.fit(X[train_idx],y[train_idx]) # fit best model with data\n",
        "# best_model.feature_importances_\n",
        "  \n",
        "fold_importance_df = pd.DataFrame()\n",
        "fold_importance_df[\"feature\"] = feature_names   \n",
        "fold_importance_df[\"importance\"] = best_model.feature_importances_\n",
        "\n",
        "fold_importance_df.sort_values('importance', ascending=False, inplace=True)\n",
        "\n",
        "ax = fold_importance_df.head(10).plot.barh(x='feature',y='importance',rot=0)\n",
        "ax.get_legend().remove()\n",
        "ax.set_ylabel('')\n",
        "ax.set_xlabel('Gain')\n",
        "ax.set_title('Feature Importance')\n"
      ]
    },
    {
      "cell_type": "code",
      "execution_count": null,
      "metadata": {
        "colab": {
          "base_uri": "https://localhost:8080/"
        },
        "id": "fZ3grn8Lneuh",
        "outputId": "1539d5fb-0ed9-4a5a-d5e0-630b4786d122"
      },
      "outputs": [
        {
          "data": {
            "text/plain": [
              "feature       object\n",
              "importance     int64\n",
              "dtype: object"
            ]
          },
          "execution_count": 124,
          "metadata": {},
          "output_type": "execute_result"
        }
      ],
      "source": [
        "fold_importance_df.dtypes"
      ]
    },
    {
      "cell_type": "code",
      "execution_count": null,
      "metadata": {
        "colab": {
          "base_uri": "https://localhost:8080/",
          "height": 546
        },
        "id": "AZ7-_IYqZYE0",
        "outputId": "07dd8e8c-3e95-4a3c-cd9a-b2bfc5e8e118"
      },
      "outputs": [
        {
          "data": {
            "image/png": "[encoded data removed]",
            "text/plain": [
              "<Figure size 720x720 with 6 Axes>"
            ]
          },
          "metadata": {
            "needs_background": "light"
          },
          "output_type": "display_data"
        }
      ],
      "source": [
        "# plot results\n",
        "search_df = pd.DataFrame(np.transpose([-rand_search.cv_results_['mean_test_score'],\n",
        "                                       rand_search.cv_results_['param_learning_rate'].data,\n",
        "                                       rand_search.cv_results_['param_n_estimators'].data, \n",
        "                                       rand_search.cv_results_['param_max_depth'].data,                                      \n",
        "                                       rand_search.cv_results_['param_num_leaves'].data,\n",
        "                                       rand_search.cv_results_['param_reg_alpha'].data]),\n",
        "                           columns=['score', 'learning_rate', 'n_estimators', 'max_depth', 'num_leaves','reg_alpha'])\n",
        "\n",
        "search_df.plot(subplots=True,figsize=(10, 10))\n",
        "plt.savefig('RandomSearchCV_tuning.png', bbox_inches='tight')"
      ]
    },
    {
      "cell_type": "code",
      "execution_count": null,
      "metadata": {
        "colab": {
          "base_uri": "https://localhost:8080/",
          "height": 312
        },
        "id": "qdjjd3ktqjm5",
        "outputId": "8f6c204e-737e-45bd-c904-f5e0c3bf2daa"
      },
      "outputs": [
        {
          "data": {
            "text/plain": [
              "Text(0.5, 1.0, 'RMSE vs Iterations')"
            ]
          },
          "execution_count": 97,
          "metadata": {},
          "output_type": "execute_result"
        },
        {
          "data": {
            "image/png": "[encoded data removed]",
            "text/plain": [
              "<Figure size 432x288 with 1 Axes>"
            ]
          },
          "metadata": {
            "needs_background": "light"
          },
          "output_type": "display_data"
        }
      ],
      "source": [
        "store = pd.DataFrame(index=range(100)) # store scores\n",
        "store['Random Search'] = search_df ['score'].cummin()\n",
        "ax = store.plot()\n",
        "ax.set_xlabel('Iterations [n]')\n",
        "ax.set_ylabel('Error [RMSE]')\n",
        "ax.set_title('RMSE vs Iterations')\n"
      ]
    },
    {
      "cell_type": "markdown",
      "metadata": {
        "id": "0sPMcP5gKybH"
      },
      "source": [
        "## Bayesian Hyperoptimization ~ crashed at very end (ran out of time to run again)"
      ]
    },
    {
      "cell_type": "code",
      "execution_count": null,
      "metadata": {
        "id": "sFz38zqKKx19"
      },
      "outputs": [],
      "source": [
        "# %%time \n",
        "\n",
        "# # possible values of parameters\n",
        "# param_grid = {'learning_rate': hp.loguniform('learning_rate', -5, 0),       # step size [0.1-1]\n",
        "#               'n_estimators': hp.quniform('n_estimators', 5, 2000, 20),  # n boosted trees [0-inf]\n",
        "#               'max_depth': hp.quniform('max_depth', 2, 50, 2),     # depth of tree [1-inf]\n",
        "#               'num_leaves': hp.quniform('num_leaves', 5, 100, 20),   # max leaves per tree [1-inf]\n",
        "#               'reg_alpha': hp.quniform('reg_alpha', 5, 20, 20),    # regularization [0-inf]\n",
        "#              }\n",
        "\n",
        "# # create function to minimize\n",
        "# def hyperop_cv(params, cv=kf, X=X[train_idx], y=y[train_idx]):\n",
        "    \n",
        "#     # define parameters\n",
        "#     params = {'learning_rate': params['learning_rate'],\n",
        "#               'n_estimators': int(params['n_estimators']), \n",
        "#               'max_depth': int(params['max_depth']), \n",
        "#               'num_leaves': int(params['num_leaves']),\n",
        "#               'reg_alpha': params['reg_alpha']}\n",
        "    \n",
        "#     hyperop_model = lgb.LGBMRegressor(random_state=0, **params) # input params into model\n",
        "#     score = -cross_val_score(hyperop_model, X, y, \n",
        "#                              cv=cv, \n",
        "#                              scoring=\"neg_mean_squared_error\",\n",
        "#                              n_jobs=-1).mean()\n",
        "#     return score\n",
        "\n",
        "# # store iterative results as trials\n",
        "# trials = Trials()\n",
        "# best=fmin(fn = hyperop_cv, # function to optimize\n",
        "#           space = param_grid, \n",
        "#           algo = tpe.suggest, # optimization algorithm (hyperop selects parameters)\n",
        "#           max_evals = 100, # maximum number of iterations\n",
        "#           trials = trials # store trial scores\n",
        "#          )\n",
        "\n",
        "# # calculate \n",
        "# hyperop_model = lgb.LGBMRegressor(random_state = 0, \n",
        "#                                   n_estimators = int(best['n_estimators']),\n",
        "#                                   max_depth = int(best['max_depth']),\n",
        "#                                   num_leaves = int(best['num_leaves']),\n",
        "#                                   reg_alpha = best['reg_alpha'],\n",
        "#                                   learning_rate = best['learning_rate']\n",
        "#                                   )\n",
        "# hyperop_model.fit(X[train_idx],y[train_idx])\n",
        "# train_rmse = np.sqrt(MSE(y[train_idx], hyperop_model.predict(X[train_idx]))) # train error\n",
        "# test_rmse = np.sqrt(MSE(y[test_idx], hyperop_model.predict(X[test_idx])))    # train error\n",
        "\n",
        "# print(\"Best MSE {:.3f} params {}\".format( hyperop_cv(best), best))\n",
        "\n",
        "# export_kaggle_prediction(hyperop_model, \n",
        "#                          X[kaggle_ids], \n",
        "#                          'data/submit_sample.csv', \n",
        "#                          f'data/predictions/hyper_op.csv') # store results as csv\n"
      ]
    },
    {
      "cell_type": "code",
      "execution_count": null,
      "metadata": {
        "id": "DSeC118JX1A-"
      },
      "outputs": [],
      "source": [
        "# # plot results\n",
        "# hyper_results = np.array([[x['result']['loss'],\n",
        "#                            x['misc']['vals']['learning_rate'][0],\n",
        "#                            x['misc']['vals']['n_estimators'][0],\n",
        "#                            x['misc']['vals']['max_depth'][0],\n",
        "#                            x['misc']['vals']['num_leaves'][0],\n",
        "#                            x['misc']['vals']['reg_alpha'][0]] for x in trials.trials])\n",
        "\n",
        "\n",
        "# hyper_df = pd.DataFrame(hyper_results,\n",
        "#                            columns=['score', 'learning_rate','n_estimators','max_depth','num_leaves','reg_alpha'])\n",
        "# hyper_df.plot(subplots=True,figsize=(10, 10))\n",
        "# plt.savefig('hyper_tuning.png', bbox_inches='tight')"
      ]
    },
    {
      "cell_type": "markdown",
      "metadata": {
        "id": "esnJeyRGFddb"
      },
      "source": [
        "# Submit to Kaggle"
      ]
    },
    {
      "cell_type": "code",
      "execution_count": null,
      "metadata": {
        "id": "NfNHHHb3F357"
      },
      "outputs": [],
      "source": [
        "# # submit to kaggle\n",
        "# !kaggle competitions submit -c flight-delays-prediction-challeng2021 -f data/predictions/lgbm_naive_OHEcat.csv -m 'lgbm_naive_OHEcat'\n",
        "# !kaggle competitions submit -c flight-delays-prediction-challeng2021 -f data/predictions/lgbm_naive_LABcat.csv -m 'lgbm_naive_LABcat'\n",
        "# !kaggle competitions submit -c flight-delays-prediction-challeng2021 -f data/predictions/lgbm_naive_LABcat_OHEtime.csv -m 'lgbm_naive_LABcat_OHEtime'\n",
        "# !kaggle competitions submit -c flight-delays-prediction-challeng2021 -f data/predictions/lgbm_naive_LABcat_LABtime.csv -m 'lgbm_naive_LABcat_LABtime'\n",
        "# !kaggle competitions submit -c flight-delays-prediction-challeng2021 -f data/predictions/lgbm_naive_LABcat_CYCtime.csv -m 'lgbm_naive_LABcat_CYCtime'\n",
        "# !kaggle competitions submit -c flight-delays-prediction-challeng2021 -f data/predictions/lgbm_naive_LABcat_OHEtime_woOutliers.csv -m 'lgbm_naive_LABcat_OHEtime_woOutliers'\n",
        "# !kaggle competitions submit -c flight-delays-prediction-challeng2021 -f naive_LABcat_OHEtime_FE.csv -m 'naive_LABcat_OHEtime_FE'"
      ]
    }
  ],
  "metadata": {
    "accelerator": "GPU",
    "colab": {
      "collapsed_sections": [],
      "machine_shape": "hm",
      "name": "lgbm_modelling_notebook.ipynb",
      "provenance": []
    },
    "kernelspec": {
      "display_name": "Python 3.8.9 64-bit",
      "language": "python",
      "name": "python3"
    },
    "language_info": {
      "name": "python",
      "version": "3.8.9"
    },
    "vscode": {
      "interpreter": {
        "hash": "31f2aee4e71d21fbe5cf8b01ff0e069b9275f58929596ceb00d14d90e3e16cd6"
      }
    }
  },
  "nbformat": 4,
  "nbformat_minor": 0
}
